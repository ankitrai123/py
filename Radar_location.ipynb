{
  "cells": [
    {
      "cell_type": "markdown",
      "metadata": {
        "id": "view-in-github",
        "colab_type": "text"
      },
      "source": [
        "<a href=\"https://colab.research.google.com/github/ankitrai123/py/blob/master/Radar_location.ipynb\" target=\"_parent\"><img src=\"https://colab.research.google.com/assets/colab-badge.svg\" alt=\"Open In Colab\"/></a>"
      ]
    },
    {
      "cell_type": "code",
      "execution_count": 1,
      "metadata": {
        "id": "LwqKJFYPMb-b"
      },
      "outputs": [],
      "source": [
        "import numpy as np\n",
        "import pandas as pd\n",
        "from sklearn.model_selection import train_test_split\n",
        "from tensorflow.keras.models import Sequential\n",
        "from tensorflow.keras.layers import Conv1D, MaxPooling1D, Flatten, Dense\n",
        "import matplotlib.pyplot as plt\n",
        "import pandas as pd\n",
        "import numpy as np\n",
        "from sklearn.model_selection import train_test_split\n",
        "from sklearn.linear_model import LinearRegression\n",
        "from sklearn.metrics import mean_squared_error\n",
        "from sklearn.ensemble import RandomForestRegressor\n",
        "from sklearn.model_selection import GridSearchCV\n",
        "from sklearn.ensemble import GradientBoostingRegressor\n",
        "from sklearn.svm import SVR\n",
        "from sklearn.neural_network import MLPRegressor\n",
        "from sklearn.linear_model import Lasso, Ridge\n",
        "from sklearn.neighbors import KNeighborsRegressor\n",
        "from sklearn.tree import DecisionTreeRegressor\n",
        "from sklearn.metrics import mean_squared_error, mean_absolute_error, r2_score\n",
        "from tensorflow.keras.models import Sequential\n",
        "from tensorflow.keras.layers import Conv1D, MaxPooling1D, Flatten, Dense, Dropout"
      ]
    },
    {
      "cell_type": "code",
      "execution_count": 35,
      "metadata": {
        "colab": {
          "base_uri": "https://localhost:8080/"
        },
        "id": "iYjydUVYMe8M",
        "outputId": "3b6eb393-67d0-4b68-e89c-982afea917b3"
      },
      "outputs": [
        {
          "output_type": "execute_result",
          "data": {
            "text/plain": [
              "array([165.02513413])"
            ]
          },
          "metadata": {},
          "execution_count": 35
        }
      ],
      "source": [
        "dataset = pd.read_csv('/content/drive/MyDrive/Radar_location_fix/dataset_far_till_90_new.csv')\n",
        "dataset.drop(dataset.columns[11], axis=1, inplace=True)\n",
        "#dataset.drop(dataset.columns[11], axis=1, inplace=True)\n",
        "y = dataset.iloc[:, -1:].values\n",
        "X = dataset.iloc[:, :-1].values\n",
        "X *= 100000\n",
        "X_train, X_val, y_train, y_val = train_test_split(X, y, test_size=0.2, random_state=200)\n",
        "y[255]\n"
      ]
    },
    {
      "cell_type": "code",
      "execution_count": 5,
      "metadata": {
        "id": "rVJ8mwWJNNLK"
      },
      "outputs": [],
      "source": [
        "\n",
        "model = Sequential([\n",
        "    Conv1D(filters=1, kernel_size=10, activation='relu', input_shape=(11, 1)),\n",
        "     #MaxPooling1D(pool_size=2),\n",
        "    Flatten(input_shape=(11, 1)),\n",
        "    Dense(128, activation='relu'),\n",
        "    Dropout(0.2),\n",
        "\n",
        "    Dense(256, activation='relu'),\n",
        "    Dropout(0.1),\n",
        "\n",
        "    Dense(512, activation='relu'),\n",
        "    Dropout(0.2),\n",
        "\n",
        "     Dense(1024, activation='relu'),\n",
        "     Dropout(0.1),\n",
        "\n",
        "     Dense(512, activation='relu'),\n",
        "     Dropout(0.2),\n",
        "\n",
        "    Dense(256, activation='relu'),\n",
        "    Dropout(0.1),\n",
        "\n",
        "    Dense(128, activation='relu'),\n",
        "    Dropout(0.1),\n",
        "\n",
        "    Dense(64, activation='relu'),\n",
        "    Dropout(0.1),\n",
        "\n",
        "\n",
        "    Dense(32, activation='relu'),\n",
        "    Dropout(0.1),\n",
        "\n",
        "\n",
        "    Dense(1, activation='relu'),\n",
        "    Dropout(0.1),\n",
        "])\n",
        "\n"
      ]
    },
    {
      "cell_type": "code",
      "execution_count": null,
      "metadata": {
        "id": "PQtjLzaUOq24"
      },
      "outputs": [],
      "source": [
        "model.compile(optimizer='adam', loss='mse')\n",
        "\n",
        "# Train the model\n",
        "history=model.fit(X_train, y_train, validation_data=(X_val, y_val), epochs=100, batch_size=128)\n",
        "\n",
        "\n",
        "# Evaluate the model\n",
        "loss = model.evaluate(X_val, y_val)\n",
        "print('Test Loss:', loss)"
      ]
    },
    {
      "cell_type": "code",
      "execution_count": 37,
      "metadata": {
        "colab": {
          "base_uri": "https://localhost:8080/",
          "height": 74
        },
        "id": "HmtaqnoERSf7",
        "outputId": "81ff78f3-2d74-4789-b084-5d13a01728a6"
      },
      "outputs": [
        {
          "output_type": "execute_result",
          "data": {
            "text/plain": [
              "DecisionTreeRegressor()"
            ],
            "text/html": [
              "<style>#sk-container-id-3 {color: black;background-color: white;}#sk-container-id-3 pre{padding: 0;}#sk-container-id-3 div.sk-toggleable {background-color: white;}#sk-container-id-3 label.sk-toggleable__label {cursor: pointer;display: block;width: 100%;margin-bottom: 0;padding: 0.3em;box-sizing: border-box;text-align: center;}#sk-container-id-3 label.sk-toggleable__label-arrow:before {content: \"▸\";float: left;margin-right: 0.25em;color: #696969;}#sk-container-id-3 label.sk-toggleable__label-arrow:hover:before {color: black;}#sk-container-id-3 div.sk-estimator:hover label.sk-toggleable__label-arrow:before {color: black;}#sk-container-id-3 div.sk-toggleable__content {max-height: 0;max-width: 0;overflow: hidden;text-align: left;background-color: #f0f8ff;}#sk-container-id-3 div.sk-toggleable__content pre {margin: 0.2em;color: black;border-radius: 0.25em;background-color: #f0f8ff;}#sk-container-id-3 input.sk-toggleable__control:checked~div.sk-toggleable__content {max-height: 200px;max-width: 100%;overflow: auto;}#sk-container-id-3 input.sk-toggleable__control:checked~label.sk-toggleable__label-arrow:before {content: \"▾\";}#sk-container-id-3 div.sk-estimator input.sk-toggleable__control:checked~label.sk-toggleable__label {background-color: #d4ebff;}#sk-container-id-3 div.sk-label input.sk-toggleable__control:checked~label.sk-toggleable__label {background-color: #d4ebff;}#sk-container-id-3 input.sk-hidden--visually {border: 0;clip: rect(1px 1px 1px 1px);clip: rect(1px, 1px, 1px, 1px);height: 1px;margin: -1px;overflow: hidden;padding: 0;position: absolute;width: 1px;}#sk-container-id-3 div.sk-estimator {font-family: monospace;background-color: #f0f8ff;border: 1px dotted black;border-radius: 0.25em;box-sizing: border-box;margin-bottom: 0.5em;}#sk-container-id-3 div.sk-estimator:hover {background-color: #d4ebff;}#sk-container-id-3 div.sk-parallel-item::after {content: \"\";width: 100%;border-bottom: 1px solid gray;flex-grow: 1;}#sk-container-id-3 div.sk-label:hover label.sk-toggleable__label {background-color: #d4ebff;}#sk-container-id-3 div.sk-serial::before {content: \"\";position: absolute;border-left: 1px solid gray;box-sizing: border-box;top: 0;bottom: 0;left: 50%;z-index: 0;}#sk-container-id-3 div.sk-serial {display: flex;flex-direction: column;align-items: center;background-color: white;padding-right: 0.2em;padding-left: 0.2em;position: relative;}#sk-container-id-3 div.sk-item {position: relative;z-index: 1;}#sk-container-id-3 div.sk-parallel {display: flex;align-items: stretch;justify-content: center;background-color: white;position: relative;}#sk-container-id-3 div.sk-item::before, #sk-container-id-3 div.sk-parallel-item::before {content: \"\";position: absolute;border-left: 1px solid gray;box-sizing: border-box;top: 0;bottom: 0;left: 50%;z-index: -1;}#sk-container-id-3 div.sk-parallel-item {display: flex;flex-direction: column;z-index: 1;position: relative;background-color: white;}#sk-container-id-3 div.sk-parallel-item:first-child::after {align-self: flex-end;width: 50%;}#sk-container-id-3 div.sk-parallel-item:last-child::after {align-self: flex-start;width: 50%;}#sk-container-id-3 div.sk-parallel-item:only-child::after {width: 0;}#sk-container-id-3 div.sk-dashed-wrapped {border: 1px dashed gray;margin: 0 0.4em 0.5em 0.4em;box-sizing: border-box;padding-bottom: 0.4em;background-color: white;}#sk-container-id-3 div.sk-label label {font-family: monospace;font-weight: bold;display: inline-block;line-height: 1.2em;}#sk-container-id-3 div.sk-label-container {text-align: center;}#sk-container-id-3 div.sk-container {/* jupyter's `normalize.less` sets `[hidden] { display: none; }` but bootstrap.min.css set `[hidden] { display: none !important; }` so we also need the `!important` here to be able to override the default hidden behavior on the sphinx rendered scikit-learn.org. See: https://github.com/scikit-learn/scikit-learn/issues/21755 */display: inline-block !important;position: relative;}#sk-container-id-3 div.sk-text-repr-fallback {display: none;}</style><div id=\"sk-container-id-3\" class=\"sk-top-container\"><div class=\"sk-text-repr-fallback\"><pre>DecisionTreeRegressor()</pre><b>In a Jupyter environment, please rerun this cell to show the HTML representation or trust the notebook. <br />On GitHub, the HTML representation is unable to render, please try loading this page with nbviewer.org.</b></div><div class=\"sk-container\" hidden><div class=\"sk-item\"><div class=\"sk-estimator sk-toggleable\"><input class=\"sk-toggleable__control sk-hidden--visually\" id=\"sk-estimator-id-3\" type=\"checkbox\" checked><label for=\"sk-estimator-id-3\" class=\"sk-toggleable__label sk-toggleable__label-arrow\">DecisionTreeRegressor</label><div class=\"sk-toggleable__content\"><pre>DecisionTreeRegressor()</pre></div></div></div></div></div>"
            ]
          },
          "metadata": {},
          "execution_count": 37
        }
      ],
      "source": [
        "from sklearn.metrics import mean_squared_error, mean_absolute_error, r2_score\n",
        "dt_model = DecisionTreeRegressor()\n",
        "dt_model.fit(X_train, y_train)"
      ]
    },
    {
      "cell_type": "code",
      "execution_count": 38,
      "metadata": {
        "id": "Y5ExpICfRT61",
        "colab": {
          "base_uri": "https://localhost:8080/"
        },
        "outputId": "c1378f4f-0cdc-474d-b1ae-998fca70e889"
      },
      "outputs": [
        {
          "output_type": "stream",
          "name": "stdout",
          "text": [
            "Decision Tree Training:\n",
            "Mean Squared Error: 1.1886135146547007e-29\n",
            "Mean Absolute Error: 2.6629804944548765e-16\n",
            "R-squared: 1.0\n",
            "--------------------------------------\n",
            "Decision Tree Testing:\n",
            "Mean Squared Error: 7064.785301786601\n",
            "Mean Absolute Error: 32.9506496869725\n",
            "R-squared: 0.9839838168435784\n",
            "--------------------------------------\n"
          ]
        }
      ],
      "source": [
        "from sklearn.metrics import mean_squared_error, mean_absolute_error, r2_score\n",
        "\n",
        "y_train_pred_dt = dt_model.predict(X_train)\n",
        "mse_train_dt = mean_squared_error(y_train, y_train_pred_dt)\n",
        "mae_train_dt = mean_absolute_error(y_train, y_train_pred_dt)\n",
        "r2_train_dt = r2_score(y_train, y_train_pred_dt)\n",
        "\n",
        "# Predictions on testing set\n",
        "y_test_pred_dt = dt_model.predict(X_val)\n",
        "mse_test_dt = mean_squared_error(y_val, y_test_pred_dt)\n",
        "mae_test_dt = mean_absolute_error(y_val, y_test_pred_dt)\n",
        "r2_test_dt = r2_score(y_val, y_test_pred_dt)\n",
        "\n",
        "print(\"Decision Tree Training:\")\n",
        "print(\"Mean Squared Error:\", mse_train_dt)\n",
        "print(\"Mean Absolute Error:\", mae_train_dt)\n",
        "print(\"R-squared:\", r2_train_dt)\n",
        "print(\"--------------------------------------\")\n",
        "\n",
        "print(\"Decision Tree Testing:\")\n",
        "print(\"Mean Squared Error:\", mse_test_dt)\n",
        "print(\"Mean Absolute Error:\", mae_test_dt)\n",
        "print(\"R-squared:\", r2_test_dt)\n",
        "print(\"--------------------------------------\")\n"
      ]
    },
    {
      "cell_type": "code",
      "source": [
        "rf_model = RandomForestRegressor(n_estimators=200, random_state=100)\n",
        "rf_model.fit(X_train, y_train)"
      ],
      "metadata": {
        "id": "_ck6DH9AT7fQ",
        "colab": {
          "base_uri": "https://localhost:8080/",
          "height": 129
        },
        "outputId": "15defec3-dd23-49f0-d3ea-bfb7a1ac5909"
      },
      "execution_count": 39,
      "outputs": [
        {
          "output_type": "stream",
          "name": "stderr",
          "text": [
            "<ipython-input-39-c08f3293a925>:2: DataConversionWarning: A column-vector y was passed when a 1d array was expected. Please change the shape of y to (n_samples,), for example using ravel().\n",
            "  rf_model.fit(X_train, y_train)\n"
          ]
        },
        {
          "output_type": "execute_result",
          "data": {
            "text/plain": [
              "RandomForestRegressor(n_estimators=200, random_state=100)"
            ],
            "text/html": [
              "<style>#sk-container-id-4 {color: black;background-color: white;}#sk-container-id-4 pre{padding: 0;}#sk-container-id-4 div.sk-toggleable {background-color: white;}#sk-container-id-4 label.sk-toggleable__label {cursor: pointer;display: block;width: 100%;margin-bottom: 0;padding: 0.3em;box-sizing: border-box;text-align: center;}#sk-container-id-4 label.sk-toggleable__label-arrow:before {content: \"▸\";float: left;margin-right: 0.25em;color: #696969;}#sk-container-id-4 label.sk-toggleable__label-arrow:hover:before {color: black;}#sk-container-id-4 div.sk-estimator:hover label.sk-toggleable__label-arrow:before {color: black;}#sk-container-id-4 div.sk-toggleable__content {max-height: 0;max-width: 0;overflow: hidden;text-align: left;background-color: #f0f8ff;}#sk-container-id-4 div.sk-toggleable__content pre {margin: 0.2em;color: black;border-radius: 0.25em;background-color: #f0f8ff;}#sk-container-id-4 input.sk-toggleable__control:checked~div.sk-toggleable__content {max-height: 200px;max-width: 100%;overflow: auto;}#sk-container-id-4 input.sk-toggleable__control:checked~label.sk-toggleable__label-arrow:before {content: \"▾\";}#sk-container-id-4 div.sk-estimator input.sk-toggleable__control:checked~label.sk-toggleable__label {background-color: #d4ebff;}#sk-container-id-4 div.sk-label input.sk-toggleable__control:checked~label.sk-toggleable__label {background-color: #d4ebff;}#sk-container-id-4 input.sk-hidden--visually {border: 0;clip: rect(1px 1px 1px 1px);clip: rect(1px, 1px, 1px, 1px);height: 1px;margin: -1px;overflow: hidden;padding: 0;position: absolute;width: 1px;}#sk-container-id-4 div.sk-estimator {font-family: monospace;background-color: #f0f8ff;border: 1px dotted black;border-radius: 0.25em;box-sizing: border-box;margin-bottom: 0.5em;}#sk-container-id-4 div.sk-estimator:hover {background-color: #d4ebff;}#sk-container-id-4 div.sk-parallel-item::after {content: \"\";width: 100%;border-bottom: 1px solid gray;flex-grow: 1;}#sk-container-id-4 div.sk-label:hover label.sk-toggleable__label {background-color: #d4ebff;}#sk-container-id-4 div.sk-serial::before {content: \"\";position: absolute;border-left: 1px solid gray;box-sizing: border-box;top: 0;bottom: 0;left: 50%;z-index: 0;}#sk-container-id-4 div.sk-serial {display: flex;flex-direction: column;align-items: center;background-color: white;padding-right: 0.2em;padding-left: 0.2em;position: relative;}#sk-container-id-4 div.sk-item {position: relative;z-index: 1;}#sk-container-id-4 div.sk-parallel {display: flex;align-items: stretch;justify-content: center;background-color: white;position: relative;}#sk-container-id-4 div.sk-item::before, #sk-container-id-4 div.sk-parallel-item::before {content: \"\";position: absolute;border-left: 1px solid gray;box-sizing: border-box;top: 0;bottom: 0;left: 50%;z-index: -1;}#sk-container-id-4 div.sk-parallel-item {display: flex;flex-direction: column;z-index: 1;position: relative;background-color: white;}#sk-container-id-4 div.sk-parallel-item:first-child::after {align-self: flex-end;width: 50%;}#sk-container-id-4 div.sk-parallel-item:last-child::after {align-self: flex-start;width: 50%;}#sk-container-id-4 div.sk-parallel-item:only-child::after {width: 0;}#sk-container-id-4 div.sk-dashed-wrapped {border: 1px dashed gray;margin: 0 0.4em 0.5em 0.4em;box-sizing: border-box;padding-bottom: 0.4em;background-color: white;}#sk-container-id-4 div.sk-label label {font-family: monospace;font-weight: bold;display: inline-block;line-height: 1.2em;}#sk-container-id-4 div.sk-label-container {text-align: center;}#sk-container-id-4 div.sk-container {/* jupyter's `normalize.less` sets `[hidden] { display: none; }` but bootstrap.min.css set `[hidden] { display: none !important; }` so we also need the `!important` here to be able to override the default hidden behavior on the sphinx rendered scikit-learn.org. See: https://github.com/scikit-learn/scikit-learn/issues/21755 */display: inline-block !important;position: relative;}#sk-container-id-4 div.sk-text-repr-fallback {display: none;}</style><div id=\"sk-container-id-4\" class=\"sk-top-container\"><div class=\"sk-text-repr-fallback\"><pre>RandomForestRegressor(n_estimators=200, random_state=100)</pre><b>In a Jupyter environment, please rerun this cell to show the HTML representation or trust the notebook. <br />On GitHub, the HTML representation is unable to render, please try loading this page with nbviewer.org.</b></div><div class=\"sk-container\" hidden><div class=\"sk-item\"><div class=\"sk-estimator sk-toggleable\"><input class=\"sk-toggleable__control sk-hidden--visually\" id=\"sk-estimator-id-4\" type=\"checkbox\" checked><label for=\"sk-estimator-id-4\" class=\"sk-toggleable__label sk-toggleable__label-arrow\">RandomForestRegressor</label><div class=\"sk-toggleable__content\"><pre>RandomForestRegressor(n_estimators=200, random_state=100)</pre></div></div></div></div></div>"
            ]
          },
          "metadata": {},
          "execution_count": 39
        }
      ]
    },
    {
      "cell_type": "code",
      "source": [
        "y_train_pred_dt = rf_model.predict(X_train)\n",
        "mse_train_dt = mean_squared_error(y_train, y_train_pred_dt)\n",
        "mae_train_dt = mean_absolute_error(y_train, y_train_pred_dt)\n",
        "r2_train_dt = r2_score(y_train, y_train_pred_dt)\n",
        "\n",
        "# Predictions on testing set\n",
        "y_test_pred_dt = rf_model.predict(X_val)\n",
        "mse_test_dt = mean_squared_error(y_val, y_test_pred_dt)\n",
        "mae_test_dt = mean_absolute_error(y_val, y_test_pred_dt)\n",
        "r2_test_dt = r2_score(y_val, y_test_pred_dt)\n",
        "\n",
        "print(\"Random Forest Regressor Training:\")\n",
        "print(\"Mean Squared Error:\", mse_train_dt)\n",
        "print(\"Mean Absolute Error:\", mae_train_dt)\n",
        "print(\"R-squared:\", r2_train_dt)\n",
        "print(\"--------------------------------------\")\n",
        "\n",
        "print(\"Mean Squared Error:\", mse_test_dt)\n",
        "print(\"Mean Absolute Error:\", mae_test_dt)\n",
        "print(\"R-squared:\", r2_test_dt)\n",
        "print(\"--------------------------------------\")"
      ],
      "metadata": {
        "id": "5dykphsHT_Hy",
        "colab": {
          "base_uri": "https://localhost:8080/"
        },
        "outputId": "04b94e89-d5dc-4059-b152-3f2f46f69a1c"
      },
      "execution_count": 40,
      "outputs": [
        {
          "output_type": "stream",
          "name": "stdout",
          "text": [
            "Random Forest Regressor Training:\n",
            "Mean Squared Error: 437.3689536654666\n",
            "Mean Absolute Error: 7.024993626633239\n",
            "R-squared: 0.9990995125413431\n",
            "--------------------------------------\n",
            "Mean Squared Error: 3145.5586689738025\n",
            "Mean Absolute Error: 18.722856812991274\n",
            "R-squared: 0.9928688782999798\n",
            "--------------------------------------\n"
          ]
        }
      ]
    },
    {
      "cell_type": "code",
      "source": [
        "from sklearn.ensemble import GradientBoostingRegressor\n",
        "\n",
        "gb_model = GradientBoostingRegressor(n_estimators=250,learning_rate = 0.18,max_depth=5, random_state=100)\n",
        "gb_model.fit(X_train, y_train)\n"
      ],
      "metadata": {
        "colab": {
          "base_uri": "https://localhost:8080/"
        },
        "id": "LhCWpsDwc6YP",
        "outputId": "a321d994-f885-4388-b2ef-4cad5ed33e71"
      },
      "execution_count": null,
      "outputs": [
        {
          "output_type": "stream",
          "name": "stderr",
          "text": [
            "/usr/local/lib/python3.10/dist-packages/sklearn/ensemble/_gb.py:437: DataConversionWarning: A column-vector y was passed when a 1d array was expected. Please change the shape of y to (n_samples, ), for example using ravel().\n",
            "  y = column_or_1d(y, warn=True)\n"
          ]
        }
      ]
    },
    {
      "cell_type": "code",
      "source": [
        "y_train_pred_gb = gb_model.predict(X_train)\n",
        "mse_train_gb = mean_squared_error(y_train, y_train_pred_gb)\n",
        "mae_train_gb = mean_absolute_error(y_train, y_train_pred_gb)\n",
        "r2_train_gb = r2_score(y_train, y_train_pred_gb)\n",
        "\n",
        "# Predictions on validation set (assuming X_val and y_val are your validation data)\n",
        "y_val_pred_gb = gb_model.predict(X_val)\n",
        "mse_val_gb = mean_squared_error(y_val, y_val_pred_gb)\n",
        "mae_val_gb = mean_absolute_error(y_val, y_val_pred_gb)\n",
        "r2_val_gb = r2_score(y_val, y_val_pred_gb)\n",
        "\n",
        "# Print results\n",
        "print(\"Gradient Boosting Regressor Training:\")\n",
        "print(\"Mean Squared Error:\", mse_train_gb)\n",
        "print(\"Mean Absolute Error:\", mae_train_gb)\n",
        "print(\"R-squared:\", r2_train_gb)\n",
        "print(\"--------------------------------------\")\n",
        "\n",
        "print(\"Gradient Boosting Regressor Validation:\")\n",
        "print(\"Mean Squared Error:\", mse_val_gb)\n",
        "print(\"Mean Absolute Error:\", mae_val_gb)\n",
        "print(\"R-squared:\", r2_val_gb)\n",
        "print(\"--------------------------------------\")"
      ],
      "metadata": {
        "colab": {
          "base_uri": "https://localhost:8080/"
        },
        "id": "UKsUO5_cdPAo",
        "outputId": "58f894af-278c-4254-a58e-727b0add3c9e"
      },
      "execution_count": 42,
      "outputs": [
        {
          "output_type": "stream",
          "name": "stdout",
          "text": [
            "Gradient Boosting Regressor Training:\n",
            "Mean Squared Error: 2414.194823246988\n",
            "Mean Absolute Error: 30.0618469986316\n",
            "R-squared: 0.995029477646118\n",
            "--------------------------------------\n",
            "Gradient Boosting Regressor Validation:\n",
            "Mean Squared Error: 5663.632365343488\n",
            "Mean Absolute Error: 38.282946286641376\n",
            "R-squared: 0.9871602929998398\n",
            "--------------------------------------\n"
          ]
        }
      ]
    },
    {
      "cell_type": "code",
      "source": [
        "svm_model = SVR(kernel='rbf')  # You can choose different kernels based on your data\n",
        "\n",
        "# Fit the model to the training data\n",
        "svm_model.fit(X_train, y_train)"
      ],
      "metadata": {
        "colab": {
          "base_uri": "https://localhost:8080/",
          "height": 129
        },
        "id": "D8U8T4I-d5Yg",
        "outputId": "7db82fda-6ed2-4317-9817-80177626d2a7"
      },
      "execution_count": 26,
      "outputs": [
        {
          "output_type": "stream",
          "name": "stderr",
          "text": [
            "/usr/local/lib/python3.10/dist-packages/sklearn/utils/validation.py:1143: DataConversionWarning: A column-vector y was passed when a 1d array was expected. Please change the shape of y to (n_samples, ), for example using ravel().\n",
            "  y = column_or_1d(y, warn=True)\n"
          ]
        },
        {
          "output_type": "execute_result",
          "data": {
            "text/plain": [
              "SVR()"
            ],
            "text/html": [
              "<style>#sk-container-id-6 {color: black;background-color: white;}#sk-container-id-6 pre{padding: 0;}#sk-container-id-6 div.sk-toggleable {background-color: white;}#sk-container-id-6 label.sk-toggleable__label {cursor: pointer;display: block;width: 100%;margin-bottom: 0;padding: 0.3em;box-sizing: border-box;text-align: center;}#sk-container-id-6 label.sk-toggleable__label-arrow:before {content: \"▸\";float: left;margin-right: 0.25em;color: #696969;}#sk-container-id-6 label.sk-toggleable__label-arrow:hover:before {color: black;}#sk-container-id-6 div.sk-estimator:hover label.sk-toggleable__label-arrow:before {color: black;}#sk-container-id-6 div.sk-toggleable__content {max-height: 0;max-width: 0;overflow: hidden;text-align: left;background-color: #f0f8ff;}#sk-container-id-6 div.sk-toggleable__content pre {margin: 0.2em;color: black;border-radius: 0.25em;background-color: #f0f8ff;}#sk-container-id-6 input.sk-toggleable__control:checked~div.sk-toggleable__content {max-height: 200px;max-width: 100%;overflow: auto;}#sk-container-id-6 input.sk-toggleable__control:checked~label.sk-toggleable__label-arrow:before {content: \"▾\";}#sk-container-id-6 div.sk-estimator input.sk-toggleable__control:checked~label.sk-toggleable__label {background-color: #d4ebff;}#sk-container-id-6 div.sk-label input.sk-toggleable__control:checked~label.sk-toggleable__label {background-color: #d4ebff;}#sk-container-id-6 input.sk-hidden--visually {border: 0;clip: rect(1px 1px 1px 1px);clip: rect(1px, 1px, 1px, 1px);height: 1px;margin: -1px;overflow: hidden;padding: 0;position: absolute;width: 1px;}#sk-container-id-6 div.sk-estimator {font-family: monospace;background-color: #f0f8ff;border: 1px dotted black;border-radius: 0.25em;box-sizing: border-box;margin-bottom: 0.5em;}#sk-container-id-6 div.sk-estimator:hover {background-color: #d4ebff;}#sk-container-id-6 div.sk-parallel-item::after {content: \"\";width: 100%;border-bottom: 1px solid gray;flex-grow: 1;}#sk-container-id-6 div.sk-label:hover label.sk-toggleable__label {background-color: #d4ebff;}#sk-container-id-6 div.sk-serial::before {content: \"\";position: absolute;border-left: 1px solid gray;box-sizing: border-box;top: 0;bottom: 0;left: 50%;z-index: 0;}#sk-container-id-6 div.sk-serial {display: flex;flex-direction: column;align-items: center;background-color: white;padding-right: 0.2em;padding-left: 0.2em;position: relative;}#sk-container-id-6 div.sk-item {position: relative;z-index: 1;}#sk-container-id-6 div.sk-parallel {display: flex;align-items: stretch;justify-content: center;background-color: white;position: relative;}#sk-container-id-6 div.sk-item::before, #sk-container-id-6 div.sk-parallel-item::before {content: \"\";position: absolute;border-left: 1px solid gray;box-sizing: border-box;top: 0;bottom: 0;left: 50%;z-index: -1;}#sk-container-id-6 div.sk-parallel-item {display: flex;flex-direction: column;z-index: 1;position: relative;background-color: white;}#sk-container-id-6 div.sk-parallel-item:first-child::after {align-self: flex-end;width: 50%;}#sk-container-id-6 div.sk-parallel-item:last-child::after {align-self: flex-start;width: 50%;}#sk-container-id-6 div.sk-parallel-item:only-child::after {width: 0;}#sk-container-id-6 div.sk-dashed-wrapped {border: 1px dashed gray;margin: 0 0.4em 0.5em 0.4em;box-sizing: border-box;padding-bottom: 0.4em;background-color: white;}#sk-container-id-6 div.sk-label label {font-family: monospace;font-weight: bold;display: inline-block;line-height: 1.2em;}#sk-container-id-6 div.sk-label-container {text-align: center;}#sk-container-id-6 div.sk-container {/* jupyter's `normalize.less` sets `[hidden] { display: none; }` but bootstrap.min.css set `[hidden] { display: none !important; }` so we also need the `!important` here to be able to override the default hidden behavior on the sphinx rendered scikit-learn.org. See: https://github.com/scikit-learn/scikit-learn/issues/21755 */display: inline-block !important;position: relative;}#sk-container-id-6 div.sk-text-repr-fallback {display: none;}</style><div id=\"sk-container-id-6\" class=\"sk-top-container\"><div class=\"sk-text-repr-fallback\"><pre>SVR()</pre><b>In a Jupyter environment, please rerun this cell to show the HTML representation or trust the notebook. <br />On GitHub, the HTML representation is unable to render, please try loading this page with nbviewer.org.</b></div><div class=\"sk-container\" hidden><div class=\"sk-item\"><div class=\"sk-estimator sk-toggleable\"><input class=\"sk-toggleable__control sk-hidden--visually\" id=\"sk-estimator-id-6\" type=\"checkbox\" checked><label for=\"sk-estimator-id-6\" class=\"sk-toggleable__label sk-toggleable__label-arrow\">SVR</label><div class=\"sk-toggleable__content\"><pre>SVR()</pre></div></div></div></div></div>"
            ]
          },
          "metadata": {},
          "execution_count": 26
        }
      ]
    },
    {
      "cell_type": "code",
      "source": [
        "y_train_pred_svm = svm_model.predict(X_train)\n",
        "mse_train_svm = mean_squared_error(y_train, y_train_pred_svm)\n",
        "mae_train_svm = mean_absolute_error(y_train, y_train_pred_svm)\n",
        "r2_train_svm = r2_score(y_train, y_train_pred_svm)\n",
        "\n",
        "# Predictions on validation set (assuming X_val and y_val are your validation data)\n",
        "y_val_pred_svm = svm_model.predict(X_val)\n",
        "mse_val_svm = mean_squared_error(y_val, y_val_pred_svm)\n",
        "mae_val_svm = mean_absolute_error(y_val, y_val_pred_svm)\n",
        "r2_val_svm = r2_score(y_val, y_val_pred_svm)\n",
        "\n",
        "# Print results\n",
        "print(\"Support Vector Machine Regressor Training:\")\n",
        "print(\"Mean Squared Error:\", mse_train_svm)\n",
        "print(\"Mean Absolute Error:\", mae_train_svm)\n",
        "print(\"R-squared:\", r2_train_svm)\n",
        "print(\"--------------------------------------\")\n",
        "\n",
        "print(\"Support Vector Machine Regressor Validation:\")\n",
        "print(\"Mean Squared Error:\", mse_val_svm)\n",
        "print(\"Mean Absolute Error:\", mae_val_svm)\n",
        "print(\"R-squared:\", r2_val_svm)\n",
        "print(\"--------------------------------------\")"
      ],
      "metadata": {
        "colab": {
          "base_uri": "https://localhost:8080/"
        },
        "id": "XvGE3AmDd-a2",
        "outputId": "665a4ee8-8118-44a4-c984-1efbb76e8900"
      },
      "execution_count": 27,
      "outputs": [
        {
          "output_type": "stream",
          "name": "stdout",
          "text": [
            "Support Vector Machine Regressor Training:\n",
            "Mean Squared Error: 763227.9971202767\n",
            "Mean Absolute Error: 282.08253948244993\n",
            "R-squared: 0.3201708316970897\n",
            "--------------------------------------\n",
            "Support Vector Machine Regressor Validation:\n",
            "Mean Squared Error: 760647.2268765912\n",
            "Mean Absolute Error: 282.693752384438\n",
            "R-squared: 0.3205520661337916\n",
            "--------------------------------------\n"
          ]
        }
      ]
    },
    {
      "cell_type": "code",
      "source": [
        "manual_data_point_features = [0.00235825958258712,0.00297582242980946,0.00260945081081576,2.82510045189314e-05,0.000617562847115367,0.000251191228294566,0.00233000857957345,0.00036637161902335,0.00294757142677777,0.00258119980777357,88]\n",
        "inp_arr=[x * 10000 if i != len(manual_data_point_features) - 1 else x for i, x in enumerate(manual_data_point_features)]\n",
        "\n",
        "y_pred = rf_model.predict([inp_arr])\n",
        "y_pred\n"
      ],
      "metadata": {
        "colab": {
          "base_uri": "https://localhost:8080/"
        },
        "id": "Lf5uMExphvcX",
        "outputId": "9b8b22dd-30c3-456a-b6d4-ec4322611136"
      },
      "execution_count": 34,
      "outputs": [
        {
          "output_type": "execute_result",
          "data": {
            "text/plain": [
              "array([5707.81870289])"
            ]
          },
          "metadata": {},
          "execution_count": 34
        }
      ]
    }
  ],
  "metadata": {
    "colab": {
      "provenance": [],
      "mount_file_id": "1icXccOK1TONufOZxox9ptSl3HBnoII5B",
      "authorship_tag": "ABX9TyOhgPiOYGanOjcEAK1oC4x7",
      "include_colab_link": true
    },
    "kernelspec": {
      "display_name": "Python 3",
      "name": "python3"
    },
    "language_info": {
      "name": "python"
    }
  },
  "nbformat": 4,
  "nbformat_minor": 0
}